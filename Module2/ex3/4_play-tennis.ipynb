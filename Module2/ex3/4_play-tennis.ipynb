{
 "cells": [
  {
   "cell_type": "code",
   "execution_count": 19,
   "metadata": {},
   "outputs": [],
   "source": [
    "import numpy as np"
   ]
  },
  {
   "cell_type": "code",
   "execution_count": 20,
   "metadata": {},
   "outputs": [],
   "source": [
    "def create_train_data():\n",
    "    # Load the dataset from file\n",
    "    data = np.loadtxt('play-tennis.txt', delimiter=',', dtype='str')\n",
    "    return data"
   ]
  },
  {
   "cell_type": "code",
   "execution_count": 21,
   "metadata": {},
   "outputs": [],
   "source": [
    "def compute_prior_probability(train_data):\n",
    "  y_unique, y_counts = np.unique(train_data[:,-1], return_counts=True)\n",
    "  prior_probability = {}\n",
    "  for i in range(len(y_unique)):\n",
    "    prior_probability[y_unique[i]] = y_counts[i] / len(train_data)\n",
    "  return prior_probability"
   ]
  },
  {
   "cell_type": "code",
   "execution_count": 48,
   "metadata": {},
   "outputs": [],
   "source": [
    "def compute_conditional_probability(train_data):\n",
    "  y_unique = ['no', 'yes']\n",
    "  conditional_probability = []\n",
    "  list_x_name = []\n",
    "  for i in range(0, train_data.shape[1] - 1):\n",
    "    x_unique = np.unique(train_data[:,i])\n",
    "    list_x_name.append(x_unique)\n",
    "    \n",
    "    x_conditional_probability = np.zeros((len(y_unique), len(x_unique)))\n",
    "    for j, y in enumerate(y_unique):\n",
    "      y_count = np.sum(train_data[:,-1] == y)\n",
    "      for k, x in enumerate(x_unique):\n",
    "        x_count = np.sum((train_data[:,i] == x) & (train_data[:,-1] == y))\n",
    "        x_conditional_probability[j,k] = x_count / y_count\n",
    "    conditional_probability.append(x_conditional_probability)\n",
    "    \n",
    "  return conditional_probability, list_x_name"
   ]
  },
  {
   "cell_type": "code",
   "execution_count": 28,
   "metadata": {},
   "outputs": [],
   "source": [
    "def get_index_from_value(feature_name, list_features):\n",
    "  return np.where(list_features == feature_name)[0][0]"
   ]
  },
  {
   "cell_type": "code",
   "execution_count": 23,
   "metadata": {},
   "outputs": [
    {
     "name": "stdout",
     "output_type": "stream",
     "text": [
      "P(play tennis = yes) = 0.6\n",
      "P(play tennis = no) = 0.4\n"
     ]
    }
   ],
   "source": [
    "prior_probability = compute_prior_probability(create_train_data())\n",
    "print(f\"P(play tennis = yes) = {prior_probability['yes']}\")\n",
    "print(f\"P(play tennis = no) = {prior_probability['no']}\")"
   ]
  },
  {
   "cell_type": "code",
   "execution_count": 53,
   "metadata": {},
   "outputs": [
    {
     "name": "stdout",
     "output_type": "stream",
     "text": [
      "[[0.25       0.25       0.5       ]\n",
      " [0.33333333 0.5        0.16666667]]\n",
      "[[0.25       0.5        0.25      ]\n",
      " [0.5        0.16666667 0.33333333]]\n",
      "[[0.75       0.25      ]\n",
      " [0.33333333 0.66666667]]\n",
      "[[0.5        0.5       ]\n",
      " [0.16666667 0.83333333]]\n",
      "P(Outlook = Sunny | play tennis = yes) =  0.16666666666666666\n",
      "P(Outlook = Sunny | play tennis = no) =  0.5\n"
     ]
    }
   ],
   "source": [
    "conditional_probability, list_x_name = compute_conditional_probability(create_train_data())\n",
    "outlook = list_x_name[0]\n",
    "\n",
    "for i in conditional_probability:\n",
    "  print(i)\n",
    "x1 = get_index_from_value('Sunny', outlook)\n",
    "print(\"P(Outlook = Sunny | play tennis = yes) = \", conditional_probability[0][1,x1])\n",
    "print(\"P(Outlook = Sunny | play tennis = no) = \", conditional_probability[0][0,x1])"
   ]
  },
  {
   "cell_type": "code",
   "execution_count": 54,
   "metadata": {},
   "outputs": [],
   "source": [
    "def train_naive_bayes(train_data):\n",
    "  prior_probability = compute_prior_probability(train_data)\n",
    "  conditional_probability, list_x_name = compute_conditional_probability(train_data)\n",
    "  return prior_probability, conditional_probability, list_x_name"
   ]
  },
  {
   "cell_type": "code",
   "execution_count": 55,
   "metadata": {},
   "outputs": [],
   "source": [
    "def prediction_play_tennis(X, list_x_name, prior_probability, conditional_probability):\n",
    "  x1 = get_index_from_value(X[0], list_x_name[0])\n",
    "  x2 = get_index_from_value(X[1], list_x_name[1])\n",
    "  x3 = get_index_from_value(X[2], list_x_name[2])\n",
    "  x4 = get_index_from_value(X[3], list_x_name[3])\n",
    "  \n",
    "  p0 = 0\n",
    "  p1 = 0\n",
    "  \n",
    "  for i in range(0, len(prior_probability)):\n",
    "    p0 += conditional_probability[0][i,x1] * conditional_probability[1][i,x2] * conditional_probability[2][i,x3] * conditional_probability[3][i,x4] * prior_probability[list(prior_probability.keys())[i]]\n",
    "    p1 += conditional_probability[0][i,x1] * conditional_probability[1][i,x2] * conditional_probability[2][i,x3] * conditional_probability[3][i,x4] * prior_probability[list(prior_probability.keys())[i]]\n",
    "    \n",
    "  p0 /= prior_probability['no']\n",
    "  p1 /= prior_probability['yes']\n",
    "  \n",
    "  if p0 > p1:\n",
    "    y_pred = 0\n",
    "  else:\n",
    "    y_pred = 1\n",
    "    \n",
    "  return y_pred"
   ]
  },
  {
   "cell_type": "code",
   "execution_count": 56,
   "metadata": {},
   "outputs": [
    {
     "name": "stdout",
     "output_type": "stream",
     "text": [
      "Play tennis = No\n"
     ]
    }
   ],
   "source": [
    "X = ['Sunny', 'Cool', 'High', 'Strong']\n",
    "data = create_train_data()\n",
    "prior_probability, conditional_probability, list_x_name = train_naive_bayes(data)\n",
    "y_pred = prediction_play_tennis(X, list_x_name, prior_probability, conditional_probability)\n",
    "\n",
    "if y_pred == 0:\n",
    "  print(\"Play tennis = No\")\n",
    "else:\n",
    "  print(\"Play tennis = Yes\")"
   ]
  }
 ],
 "metadata": {
  "kernelspec": {
   "display_name": "ml",
   "language": "python",
   "name": "python3"
  },
  "language_info": {
   "codemirror_mode": {
    "name": "ipython",
    "version": 3
   },
   "file_extension": ".py",
   "mimetype": "text/x-python",
   "name": "python",
   "nbconvert_exporter": "python",
   "pygments_lexer": "ipython3",
   "version": "3.9.19"
  }
 },
 "nbformat": 4,
 "nbformat_minor": 2
}
