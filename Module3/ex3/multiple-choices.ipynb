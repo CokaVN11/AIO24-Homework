{
 "cells": [
  {
   "cell_type": "markdown",
   "metadata": {},
   "source": [
    "## Q1. A \n",
    "\n",
    "\n",
    "$Entropy(D) = -\\sum_{i}^{n} p_i \\log_2 p_i$\n",
    "\n",
    "| Trường hợp | Phân phối | Entropy |\n",
    "|------------|-----------|---------|\n",
    "| a) Lớp 1 = Lớp 2 | $p_1 = 0.5, p_2 = 0.5$ | $-0.5 \\log_2 0.5 - 0.5 \\log_2 0.5 = 1$ |\n",
    "| b) Lớp 1 = 3 $\\times$ Lớp 2 | $p_1 = 0.75, p_2 = 0.25$ | $-0.75 \\log_2 0.75 - 0.25 \\log_2 0.25 \\approx 0.811$ |\n",
    "| c) Lớp 1 = 2 $\\times$ Lớp 2 | $p_1 = 0.6667, p_2 = 0.3333$ | $-0.6667 \\log_2 0.6667 - 0.3333 \\log_2 0.3333 \\approx 0.918$ |\n",
    "| d) Lớp 1 = 4 $\\times$ Lớp 2 | $p_1 = 0.8, p_2 = 0.2$ | $-0.8 \\log_2 0.8 - 0.2 \\log_2 0.2 \\approx 0.722$ |"
   ]
  },
  {
   "cell_type": "markdown",
   "metadata": {},
   "source": [
    "### Bảng dữ liệu cho bài toán Classification\n",
    "| Age | Likes English | Likes AI | Raise Salary |\n",
    "|-----|---------------|----------|--------------|\n",
    "| 23 | 0 | 0 | 0 |\n",
    "| 25 | 1 | 1 | 0 |\n",
    "| 27 | 1 | 0 | 1 |\n",
    "| 29 | 0 | 1 | 1 |\n",
    "| 29 | 0 | 0 | 0 |"
   ]
  },
  {
   "cell_type": "markdown",
   "metadata": {},
   "source": [
    "## Q2. C\n",
    "$\\text{Gini}(\\text{'Raise Salary'}) = 1 - (p_{\\text{'Raise Salary'} = 0})^2 - (p_{\\text{'Raise Salary'} = 1})^2$\n",
    "\n",
    "$= 1 - \\left(\\frac{3}{5}\\right)^2 - \\left(\\frac{2}{5}\\right)^2 = 0.48$\n"
   ]
  },
  {
   "cell_type": "markdown",
   "metadata": {},
   "source": [
    "## Q3. D\n",
    "|Like English | Raise Salary = 0 | Raise Salary = 1 | Total |\n",
    "|-------------|-------------------|-------------------|-------|\n",
    "| 0 | 2 | 1 | 3 |\n",
    "| 1 | 1 | 1 | 2 |\n",
    "| Total | 3 | 2 | 5 |\n",
    "\n",
    "- $Gini(English = 0) = 1 - (2/3)^2 - (1/3)^2 = 0.444$\n",
    "- $Gini(English = 1) = 1 - (1/2)^2 - (1/2)^2 = 0.5$\n",
    "- $Gini(English) = 3/5 * 0.444 + 2/5 * 0.5 = 0.47$\n"
   ]
  },
  {
   "cell_type": "markdown",
   "metadata": {},
   "source": [
    "## Q4. C\n",
    "| Age <= 26 | Raise Salary = 0 | Raise Salary = 1 | Total |\n",
    "|-----------|-------------------|-------------------|-------|\n",
    "| 0 | 2 | 0 | 2 |\n",
    "| 1 | 1 | 2 | 3 |\n",
    "| Total | 3 | 2 | 5 |\n",
    "\n",
    "- $Gini(Age <= 26) = 1 - (2/2)^2 - (0/2)^2 = 0$\n",
    "- $Gini(Age > 26) = 1 - (1/3)^2 - (2/3)^2 = 0.444$\n",
    "- $Gini(Age) = 2/5 * 0 + 3/5 * 0.444 = 0.266$"
   ]
  },
  {
   "cell_type": "markdown",
   "metadata": {},
   "source": [
    "## Q5. B\n",
    "$Entropy('Raise Salary') = -\\left(\\frac{3}{5}\\right) \\log_2 \\left(\\frac{3}{5}\\right) - \\left(\\frac{2}{5}\\right) \\log_2 \\left(\\frac{2}{5}\\right) \\approx 0.971$"
   ]
  },
  {
   "cell_type": "markdown",
   "metadata": {},
   "source": [
    "## Q6. C \n",
    "|Like English | Raise Salary = 0 | Raise Salary = 1 | Total |\n",
    "|-------------|-------------------|-------------------|-------|\n",
    "| 0 | 2 | 1 | 3 |\n",
    "| 1 | 1 | 1 | 2 |\n",
    "| Total | 3 | 2 | 5 |\n",
    "\n",
    "- $Entropy(English = 0) = -\\left(\\frac{2}{3}\\right) \\log_2 \\left(\\frac{2}{3}\\right) - \\left(\\frac{1}{3}\\right) \\log_2 \\left(\\frac{1}{3}\\right) \\approx 0.918$\n",
    "- $Entropy(English = 1) = -\\left(\\frac{1}{2}\\right) \\log_2 \\left(\\frac{1}{2}\\right) - \\left(\\frac{1}{2}\\right) \\log_2 \\left(\\frac{1}{2}\\right) = 1$\n",
    "- $Entropy(Raise Salary | English) = 3/5 * 0.918 + 2/5 * 1 = 0.9508$\n",
    "- Information Gain: $Gain(Raise Salary | English) = Entropy(Raise Salary) - Entropy(Raise Salary | English) = 0.971 - 0.9508 = 0.0202$"
   ]
  },
  {
   "cell_type": "markdown",
   "metadata": {},
   "source": [
    "| Age | Likes English | Likes AI | Salary |\n",
    "|-----|---------------|----------|--------|\n",
    "| 23 | 0 | 0 | 200 |\n",
    "| 25 | 1 | 1 | 400 |\n",
    "| 27 | 1 | 0 | 300 | \n",
    "| 29 | 0 | 1 | 500 |\n",
    "| 29 | 0 | 0 | 400 |"
   ]
  },
  {
   "cell_type": "markdown",
   "metadata": {},
   "source": [
    "## Q9. A\n",
    "$ SSE(Likes AI = 0) = \\frac{1}{3} * \\left[ (200 - 300)^2 + (300 - 300)^2 + (400 - 300)^2 \\right] = 6666.67$\n",
    "\n",
    "$ SSE(Likes AI = 1) = \\frac{1}{2} * \\left[ (400 - 450)^2 + (500 - 450)^2 \\right] = 2500$\n",
    "\n",
    "$ SSE(Likes AI) = 6666.67 + 2500 = 9166.67$"
   ]
  },
  {
   "cell_type": "markdown",
   "metadata": {},
   "source": [
    "## Q10. C\n",
    "$ SSE(Age <= 24) = \\frac{1}{1} * (200 - 200)^2 = 0$\n",
    "\n",
    "$ SSE(Age > 24) = \\frac{1}{4} * \\left[ (400 - 400)^2 + (300 - 400)^2 + (500 - 400)^2 + (400 - 400)^2 \\right] = 5000$\n",
    "\n",
    "$ SSE(Age) = 0 + 5000 = 5000$"
   ]
  },
  {
   "cell_type": "markdown",
   "metadata": {},
   "source": []
  }
 ],
 "metadata": {
  "language_info": {
   "name": "python"
  }
 },
 "nbformat": 4,
 "nbformat_minor": 2
}
