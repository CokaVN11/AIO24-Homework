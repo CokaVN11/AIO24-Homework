{
 "cells": [
  {
   "cell_type": "code",
   "execution_count": 15,
   "metadata": {},
   "outputs": [],
   "source": [
    "import numpy as np\n",
    "import matplotlib.pyplot as plt\n",
    "import random\n",
    "\n",
    "def get_column(data, index):\n",
    "  result = []\n",
    "  for row in data:\n",
    "    result.append(row[index])\n",
    "  return result \n",
    "\n",
    "def prepare_data(file_name_dataset):\n",
    "  data = np.genfromtxt(file_name_dataset, delimiter=',', skip_header=1).tolist()\n",
    "  N = len(data)\n",
    "  \n",
    "  tv_data = get_column(data, 0)\n",
    "  \n",
    "  radio_data = get_column(data, 1)\n",
    "  \n",
    "  newspaper_data = get_column(data, 2)\n",
    "  \n",
    "  sales_data = get_column(data, 3)\n",
    "  \n",
    "  X = [tv_data, radio_data, newspaper_data]\n",
    "  y = sales_data\n",
    "  return X, y"
   ]
  },
  {
   "cell_type": "code",
   "execution_count": 16,
   "metadata": {},
   "outputs": [
    {
     "name": "stdout",
     "output_type": "stream",
     "text": [
      "[624.1, 175.10000000000002, 300.5, 78.9]\n"
     ]
    }
   ],
   "source": [
    "# Q1. A\n",
    "X, y = prepare_data('advertising.csv')\n",
    "list = [sum(X[0][:5]), sum(X[1][:5]), sum(X[2][:5]), sum(y[:5])]\n",
    "print(list)"
   ]
  },
  {
   "cell_type": "code",
   "execution_count": 19,
   "metadata": {},
   "outputs": [],
   "source": [
    "import numpy as np\n",
    "def initialize_params(n = 3):\n",
    "  # w = [random.gauss(mu=0.0, sigma=0.01) for i in range(n)]\n",
    "  # b = 0\n",
    "  # return w, b\n",
    "  return (0.016992259082509283, 0.0070783670518262355, -0.002307860847821344, 0)\n",
    "  \n",
    "def predict(X_data, weights, bias):\n",
    "  return np.dot(weights, X_data) + bias\n",
    "\n",
    "def mse(y, y_hat):\n",
    "  return np.mean((y - y_hat)**2)\n",
    "\n",
    "def compute_gradient_wi(x, y, y_hat):\n",
    "  return -2*x*(y - y_hat)\n",
    "\n",
    "def compute_gradient_b(y, y_hat):\n",
    "  return -2*(y - y_hat)\n",
    "\n",
    "def update_weight_wi(wi, dl_dwi, lr):\n",
    "  return wi - lr*dl_dwi\n",
    "\n",
    "def update_weight_b(b, dl_db, lr):\n",
    "  return b - lr*dl_db\n",
    "\n",
    "def implement_linear_regression(X_data, y_data, epoch_max = 50, lr = 1e-5):\n",
    "  losses = []\n",
    "  \n",
    "  w1, w2, w3, b = initialize_params()\n",
    "  \n",
    "  N = len(y_data)\n",
    "  for epoch in range(epoch_max):\n",
    "    for i in range(N):\n",
    "      x1, x2, x3 = X_data[0][i], X_data[1][i], X_data[2][i]\n",
    "      y = y_data[i]\n",
    "      y_hat = predict([x1, x2, x3], [w1, w2, w3], b)\n",
    "      loss = mse(y, y_hat)\n",
    "      losses.append(loss)\n",
    "      \n",
    "      # compute gradients\n",
    "      dl_dw1 = compute_gradient_wi(x1, y, y_hat)\n",
    "      dl_dw2 = compute_gradient_wi(x2, y, y_hat)\n",
    "      dl_dw3 = compute_gradient_wi(x3, y, y_hat)\n",
    "      dl_db = compute_gradient_b(y, y_hat)\n",
    "      \n",
    "      # update weights\n",
    "      w1 = update_weight_wi(w1, dl_dw1, lr)\n",
    "      w2 = update_weight_wi(w2, dl_dw2, lr)\n",
    "      w3 = update_weight_wi(w3, dl_dw3, lr)\n",
    "      b = update_weight_b(b, dl_db, lr)\n",
    "      \n",
    "      losses.append(loss)\n",
    "    if epoch % 10 == 0:\n",
    "      print(f'Epoch {epoch}, Loss {loss}')\n",
    "      \n",
    "  return w1, w2, w3, b, losses"
   ]
  },
  {
   "cell_type": "code",
   "execution_count": 5,
   "metadata": {},
   "outputs": [
    {
     "name": "stdout",
     "output_type": "stream",
     "text": [
      "1.0\n"
     ]
    }
   ],
   "source": [
    "#Q2. A\n",
    "y = predict([1, 1, 1], [0, 0.5, 0], 0.5)\n",
    "print(y)"
   ]
  },
  {
   "cell_type": "code",
   "execution_count": 6,
   "metadata": {},
   "outputs": [
    {
     "name": "stdout",
     "output_type": "stream",
     "text": [
      "0.25\n"
     ]
    }
   ],
   "source": [
    "#Q3. A\n",
    "l = mse(y_hat=1, y=0.5)\n",
    "print(l)"
   ]
  },
  {
   "cell_type": "code",
   "execution_count": 7,
   "metadata": {},
   "outputs": [
    {
     "name": "stdout",
     "output_type": "stream",
     "text": [
      "-1.0\n"
     ]
    }
   ],
   "source": [
    "#Q4. A\n",
    "g_wi = compute_gradient_wi(x=1.0, y=1.0, y_hat=0.5)\n",
    "print (g_wi)"
   ]
  },
  {
   "cell_type": "code",
   "execution_count": 8,
   "metadata": {},
   "outputs": [
    {
     "name": "stdout",
     "output_type": "stream",
     "text": [
      "-3.0\n"
     ]
    }
   ],
   "source": [
    "# Q5. B\n",
    "g_b = compute_gradient_b(y=2.0, y_hat=0.5)\n",
    "print(g_b)"
   ]
  },
  {
   "cell_type": "code",
   "execution_count": 11,
   "metadata": {},
   "outputs": [
    {
     "name": "stdout",
     "output_type": "stream",
     "text": [
      "1.000005\n"
     ]
    }
   ],
   "source": [
    "# Q6. A\n",
    "after_wi = update_weight_wi(wi=1.0, dl_dwi=-0.5, lr=1e-5)\n",
    "print (after_wi)"
   ]
  },
  {
   "cell_type": "code",
   "execution_count": 12,
   "metadata": {},
   "outputs": [
    {
     "name": "stdout",
     "output_type": "stream",
     "text": [
      "0.50001\n"
     ]
    }
   ],
   "source": [
    "# Q7. A\n",
    "after_b = update_weight_b(b=0.5, dl_db=-1, lr=1e-5)\n",
    "print(after_b)"
   ]
  },
  {
   "cell_type": "code",
   "execution_count": 24,
   "metadata": {},
   "outputs": [
    {
     "name": "stdout",
     "output_type": "stream",
     "text": [
      "Epoch 0, Loss 35.88705145412275\n",
      "Epoch 10, Loss 33.09981879543382\n",
      "Epoch 20, Loss 32.6387982635126\n",
      "Epoch 30, Loss 32.18506698177735\n",
      "Epoch 40, Loss 31.7371284349334\n"
     ]
    },
    {
     "data": {
      "image/png": "[encoded data removed]",
      "text/plain": [
       "<Figure size 640x480 with 1 Axes>"
      ]
     },
     "metadata": {},
     "output_type": "display_data"
    }
   ],
   "source": [
    "(w1, w2, w3, b, losses) = implement_linear_regression(X, y)\n",
    "plt.plot(losses[:100])\n",
    "plt.xlabel('# Iterations')\n",
    "plt.ylabel('Loss')\n",
    "plt.show()"
   ]
  },
  {
   "cell_type": "code",
   "execution_count": 26,
   "metadata": {},
   "outputs": [
    {
     "name": "stdout",
     "output_type": "stream",
     "text": [
      "Epoch 0, Loss 35.88705145412275\n",
      "Epoch 10, Loss 33.09981879543382\n",
      "Epoch 20, Loss 32.6387982635126\n",
      "Epoch 30, Loss 32.18506698177735\n",
      "Epoch 40, Loss 31.7371284349334\n",
      "0.074 0.159 0.018\n"
     ]
    }
   ],
   "source": [
    "# Q8. A\n",
    "X, y = prepare_data('advertising.csv')\n",
    "(w1, w2, w3, b, losses) = implement_linear_regression(X, y)\n",
    "print(np.round(w1, 3), np.round(w2, 3), np.round(w3, 3))"
   ]
  },
  {
   "cell_type": "code",
   "execution_count": 27,
   "metadata": {},
   "outputs": [
    {
     "name": "stdout",
     "output_type": "stream",
     "text": [
      "Epoch 0, Loss 35.88705145412275\n",
      "Epoch 10, Loss 33.09981879543382\n",
      "Epoch 20, Loss 32.6387982635126\n",
      "Epoch 30, Loss 32.18506698177735\n",
      "Epoch 40, Loss 31.7371284349334\n",
      "predicted sales: 8.176413319549825\n"
     ]
    }
   ],
   "source": [
    "# Q9. B\n",
    "tv = 19.2\n",
    "radio = 35.9\n",
    "newspaper = 51.3\n",
    "\n",
    "X, y = prepare_data('advertising.csv')\n",
    "(w1, w2, w3, b, losses) = implement_linear_regression(X, y, epoch_max=50, lr=1e-5)\n",
    "sales = predict([tv, radio, newspaper], [w1, w2, w3], b)\n",
    "print(f'predicted sales: {sales}')"
   ]
  },
  {
   "cell_type": "code",
   "execution_count": 28,
   "metadata": {},
   "outputs": [
    {
     "name": "stdout",
     "output_type": "stream",
     "text": [
      "0.5\n"
     ]
    }
   ],
   "source": [
    "# Q10. A\n",
    "def mae(y, y_hat):\n",
    "  return np.mean(np.abs(y - y_hat))\n",
    "l = mae(y_hat=1, y=0.5)\n",
    "print(l)"
   ]
  },
  {
   "cell_type": "code",
   "execution_count": 33,
   "metadata": {},
   "outputs": [],
   "source": [
    "def implement_linear_regression_nsamples(X_data, y_data, epoch_max=50, lr =1e-5) :\n",
    "  losses = []\n",
    "  w1, w2, w3, b = initialize_params()\n",
    "  N = len(y_data)\n",
    "  for epoch in range(epoch_max):\n",
    "    loss_total = 0\n",
    "    dw1_total = 0\n",
    "    dw2_total = 0\n",
    "    dw3_total = 0\n",
    "    db_total = 0\n",
    "    for i in range(N):\n",
    "      x1, x2, x3 = X_data[0][i], X_data[1][i], X_data[2][i]\n",
    "      y = y_data[i]\n",
    "      y_hat = predict([x1, x2, x3], [w1, w2, w3], b)\n",
    "      loss = mse(y, y_hat)\n",
    "      \n",
    "      # compute gradients\n",
    "      dl_dw1 = compute_gradient_wi(x1, y, y_hat)\n",
    "      dl_dw2 = compute_gradient_wi(x2, y, y_hat)\n",
    "      dl_dw3 = compute_gradient_wi(x3, y, y_hat)\n",
    "      dl_db = compute_gradient_b(y, y_hat)\n",
    "      \n",
    "      # accumulate gradients\n",
    "      dw1_total += dl_dw1\n",
    "      dw2_total += dl_dw2\n",
    "      dw3_total += dl_dw3\n",
    "      db_total += dl_db\n",
    "      \n",
    "      loss_total += loss\n",
    "      \n",
    "    \n",
    "    w1 = update_weight_wi(w1, dw1_total / N, lr)\n",
    "    w2 = update_weight_wi(w2, dw2_total / N, lr)\n",
    "    w3 = update_weight_wi(w3, dw3_total / N, lr)\n",
    "    b = update_weight_b(b, db_total / N, lr)\n",
    "    losses.append(loss_total / N)\n",
    "    if epoch % 10 == 0:\n",
    "      print(f'Epoch {epoch}, Loss {loss}')\n",
    "      \n",
    "  return w1, w2, w3, b, losses"
   ]
  },
  {
   "cell_type": "code",
   "execution_count": 35,
   "metadata": {},
   "outputs": [
    {
     "name": "stdout",
     "output_type": "stream",
     "text": [
      "Epoch 0, Loss 207.80090579443348\n",
      "Epoch 10, Loss 3.1456237692180875\n",
      "Epoch 20, Loss 1.8927740503463792\n",
      "Epoch 30, Loss 1.0689250460992374\n",
      "Epoch 40, Loss 0.5492063618538526\n",
      "Epoch 50, Loss 0.24026016969345562\n",
      "Epoch 60, Loss 0.0756151620606862\n",
      "Epoch 70, Loss 0.008154953813408318\n",
      "Epoch 80, Loss 0.004669232590886817\n",
      "Epoch 90, Loss 0.0419153300924541\n",
      "Epoch 100, Loss 0.10377451660303773\n",
      "Epoch 110, Loss 0.17920136211807167\n",
      "Epoch 120, Loss 0.2607473044016858\n",
      "Epoch 130, Loss 0.3434996733341478\n",
      "Epoch 140, Loss 0.4243210551813885\n",
      "Epoch 150, Loss 0.5013055518636934\n",
      "Epoch 160, Loss 0.57339147540135\n",
      "Epoch 170, Loss 0.640086695825935\n",
      "Epoch 180, Loss 0.7012749598306909\n",
      "Epoch 190, Loss 0.7570802720455139\n",
      "Epoch 200, Loss 0.8077727922367859\n",
      "Epoch 210, Loss 0.8537043116106727\n",
      "Epoch 220, Loss 0.8952647101999668\n",
      "Epoch 230, Loss 0.9328532139019976\n",
      "Epoch 240, Loss 0.9668600174022449\n",
      "Epoch 250, Loss 0.9976551018538453\n",
      "Epoch 260, Loss 1.0255819872732388\n",
      "Epoch 270, Loss 1.050954816037527\n",
      "Epoch 280, Loss 1.0740576359335499\n",
      "Epoch 290, Loss 1.095145089911367\n",
      "Epoch 300, Loss 1.1144439620251567\n",
      "Epoch 310, Loss 1.1321552018137138\n",
      "Epoch 320, Loss 1.148456172010666\n",
      "Epoch 330, Loss 1.1635029510480912\n",
      "Epoch 340, Loss 1.1774325825054603\n",
      "Epoch 350, Loss 1.1903652058173406\n",
      "Epoch 360, Loss 1.2024060315004677\n",
      "Epoch 370, Loss 1.2136471437221026\n",
      "Epoch 380, Loss 1.2241691259659342\n",
      "Epoch 390, Loss 1.2340425138361744\n",
      "Epoch 400, Loss 1.2433290840923847\n",
      "Epoch 410, Loss 1.2520829918398777\n",
      "Epoch 420, Loss 1.2603517691295076\n",
      "Epoch 430, Loss 1.2681771985564922\n",
      "Epoch 440, Loss 1.2755960751449116\n",
      "Epoch 450, Loss 1.2826408691130082\n",
      "Epoch 460, Loss 1.2893403012027362\n",
      "Epoch 470, Loss 1.295719841242184\n",
      "Epoch 480, Loss 1.301802139567672\n",
      "Epoch 490, Loss 1.307607399912441\n",
      "Epoch 500, Loss 1.3131537014013175\n",
      "Epoch 510, Loss 1.3184572763925677\n",
      "Epoch 520, Loss 1.3235327500873184\n",
      "Epoch 530, Loss 1.3283933470860945\n",
      "Epoch 540, Loss 1.3330510694088344\n",
      "Epoch 550, Loss 1.3375168499060397\n",
      "Epoch 560, Loss 1.3418006844690686\n",
      "Epoch 570, Loss 1.3459117459905516\n",
      "Epoch 580, Loss 1.3498584826262932\n",
      "Epoch 590, Loss 1.3536487025613475\n",
      "Epoch 600, Loss 1.3572896471790308\n",
      "Epoch 610, Loss 1.3607880542690503\n",
      "Epoch 620, Loss 1.364150212681885\n",
      "Epoch 630, Loss 1.3673820096397786\n",
      "Epoch 640, Loss 1.3704889717441926\n",
      "Epoch 650, Loss 1.3734763005722996\n",
      "Epoch 660, Loss 1.376348903628909\n",
      "Epoch 670, Loss 1.3791114213108278\n",
      "Epoch 680, Loss 1.3817682504472448\n",
      "Epoch 690, Loss 1.384323564898738\n",
      "Epoch 700, Loss 1.3867813336291548\n",
      "Epoch 710, Loss 1.3891453366041655\n",
      "Epoch 720, Loss 1.3914191788204904\n",
      "Epoch 730, Loss 1.3936063027251484\n",
      "Epoch 740, Loss 1.3957099992477446\n",
      "Epoch 750, Loss 1.3977334176355873\n",
      "Epoch 760, Loss 1.3996795742550527\n",
      "Epoch 770, Loss 1.4015513604986503\n",
      "Epoch 780, Loss 1.4033515499169964\n",
      "Epoch 790, Loss 1.4050828046782635\n",
      "Epoch 800, Loss 1.4067476814424225\n",
      "Epoch 810, Loss 1.4083486367254305\n",
      "Epoch 820, Loss 1.409888031817574\n",
      "Epoch 830, Loss 1.4113681373111382\n",
      "Epoch 840, Loss 1.412791137284562\n",
      "Epoch 850, Loss 1.414159133183796\n",
      "Epoch 860, Loss 1.4154741474355024\n",
      "Epoch 870, Loss 1.4167381268224162\n",
      "Epoch 880, Loss 1.4179529456462565\n",
      "Epoch 890, Loss 1.4191204087007803\n",
      "Epoch 900, Loss 1.4202422540739323\n",
      "Epoch 910, Loss 1.4213201557958453\n",
      "Epoch 920, Loss 1.4223557263470343\n",
      "Epoch 930, Loss 1.423350519039199\n",
      "Epoch 940, Loss 1.4243060302795483\n",
      "Epoch 950, Loss 1.4252237017283187\n",
      "Epoch 960, Loss 1.4261049223573412\n",
      "Epoch 970, Loss 1.426951030417411\n",
      "Epoch 980, Loss 1.4277633153206202\n",
      "Epoch 990, Loss 1.4285430194433912\n",
      "0.067 0.158 0.03\n"
     ]
    }
   ],
   "source": [
    "# Q11. D\n",
    "\n",
    "X, y = prepare_data('advertising.csv')\n",
    "(w1, w2, w3, b, losses) = implement_linear_regression_nsamples(X, y, epoch_max=1000, lr=1e-5)\n",
    "print(np.round(w1, 3), np.round(w2, 3), np.round(w3, 3))"
   ]
  }
 ],
 "metadata": {
  "kernelspec": {
   "display_name": "ml",
   "language": "python",
   "name": "python3"
  },
  "language_info": {
   "codemirror_mode": {
    "name": "ipython",
    "version": 3
   },
   "file_extension": ".py",
   "mimetype": "text/x-python",
   "name": "python",
   "nbconvert_exporter": "python",
   "pygments_lexer": "ipython3",
   "version": "3.9.19"
  }
 },
 "nbformat": 4,
 "nbformat_minor": 2
}
